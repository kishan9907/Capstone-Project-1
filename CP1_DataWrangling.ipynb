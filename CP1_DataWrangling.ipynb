{
 "cells": [
  {
   "cell_type": "code",
   "execution_count": 1,
   "metadata": {},
   "outputs": [],
   "source": [
    "import os\n",
    "import pandas as pd\n",
    "%matplotlib inline\n",
    "import matplotlib.pyplot as plt"
   ]
  },
  {
   "cell_type": "code",
   "execution_count": 2,
   "metadata": {},
   "outputs": [],
   "source": [
    "os.chdir(r\"..\\Datasets Italia\\Telecommunications - SMS, Call, Internet - MI\")"
   ]
  },
  {
   "cell_type": "code",
   "execution_count": 3,
   "metadata": {
    "scrolled": true
   },
   "outputs": [
    {
     "name": "stdout",
     "output_type": "stream",
     "text": [
      "1 sms-call-internet-mi-2013-11-01.txt\n",
      "2 sms-call-internet-mi-2013-11-02.txt\n",
      "3 sms-call-internet-mi-2013-11-03.txt\n",
      "4 sms-call-internet-mi-2013-11-04.txt\n",
      "5 sms-call-internet-mi-2013-11-05.txt\n",
      "6 sms-call-internet-mi-2013-11-06.txt\n",
      "7 sms-call-internet-mi-2013-11-07.txt\n",
      "8 sms-call-internet-mi-2013-11-08.txt\n",
      "9 sms-call-internet-mi-2013-11-09.txt\n",
      "10 sms-call-internet-mi-2013-11-10.txt\n",
      "11 sms-call-internet-mi-2013-11-11.txt\n",
      "12 sms-call-internet-mi-2013-11-12.txt\n",
      "13 sms-call-internet-mi-2013-11-13.txt\n",
      "14 sms-call-internet-mi-2013-11-14.txt\n",
      "15 sms-call-internet-mi-2013-11-15.txt\n",
      "16 sms-call-internet-mi-2013-11-16.txt\n",
      "17 sms-call-internet-mi-2013-11-17.txt\n",
      "18 sms-call-internet-mi-2013-11-18.txt\n",
      "19 sms-call-internet-mi-2013-11-19.txt\n",
      "20 sms-call-internet-mi-2013-11-20.txt\n",
      "21 sms-call-internet-mi-2013-11-21.txt\n",
      "22 sms-call-internet-mi-2013-11-22.txt\n",
      "23 sms-call-internet-mi-2013-11-23.txt\n",
      "24 sms-call-internet-mi-2013-11-24.txt\n",
      "25 sms-call-internet-mi-2013-11-25.txt\n",
      "26 sms-call-internet-mi-2013-11-26.txt\n",
      "27 sms-call-internet-mi-2013-11-27.txt\n",
      "28 sms-call-internet-mi-2013-11-28.txt\n",
      "29 sms-call-internet-mi-2013-11-29.txt\n",
      "30 sms-call-internet-mi-2013-11-30.txt\n",
      "31 sms-call-internet-mi-2013-12-01.txt\n",
      "32 sms-call-internet-mi-2013-12-02.txt\n",
      "33 sms-call-internet-mi-2013-12-03.txt\n",
      "34 sms-call-internet-mi-2013-12-04.txt\n",
      "35 sms-call-internet-mi-2013-12-05.txt\n",
      "36 sms-call-internet-mi-2013-12-06.txt\n",
      "37 sms-call-internet-mi-2013-12-07.txt\n",
      "38 sms-call-internet-mi-2013-12-08.txt\n",
      "39 sms-call-internet-mi-2013-12-09.txt\n",
      "40 sms-call-internet-mi-2013-12-10.txt\n",
      "41 sms-call-internet-mi-2013-12-11.txt\n",
      "42 sms-call-internet-mi-2013-12-12.txt\n",
      "43 sms-call-internet-mi-2013-12-13.txt\n",
      "44 sms-call-internet-mi-2013-12-14.txt\n",
      "45 sms-call-internet-mi-2013-12-15.txt\n",
      "46 sms-call-internet-mi-2013-12-16.txt\n",
      "47 sms-call-internet-mi-2013-12-17.txt\n",
      "48 sms-call-internet-mi-2013-12-18.txt\n",
      "49 sms-call-internet-mi-2013-12-19.txt\n",
      "50 sms-call-internet-mi-2013-12-20.txt\n",
      "51 sms-call-internet-mi-2013-12-21.txt\n",
      "52 sms-call-internet-mi-2013-12-22.txt\n",
      "53 sms-call-internet-mi-2013-12-23.txt\n",
      "54 sms-call-internet-mi-2013-12-24.txt\n",
      "55 sms-call-internet-mi-2013-12-25.txt\n",
      "56 sms-call-internet-mi-2013-12-26.txt\n",
      "57 sms-call-internet-mi-2013-12-27.txt\n",
      "58 sms-call-internet-mi-2013-12-28.txt\n",
      "59 sms-call-internet-mi-2013-12-29.txt\n",
      "Wall time: 14min 42s\n"
     ]
    }
   ],
   "source": [
    "%%time\n",
    "cdf = pd.DataFrame()\n",
    "for k,v in enumerate(os.listdir()):\n",
    "    if 'sms' in v:\n",
    "        df = pd.read_csv(v,delimiter='\\t', header=None, names=['cellId','timeInterval','countryCode','SMSin','SMSout','callIn','callOut', 'internet'])\n",
    "        df['timeInterval'] = pd.to_datetime(df['timeInterval'],unit='ms').dt.tz_localize('UTC').dt.tz_convert('CET')\n",
    "        df2 = df.loc[:,['timeInterval','SMSin','SMSout','callIn','callOut','internet']].fillna(0)\n",
    "        df2 = df2.set_index('timeInterval')\n",
    "        df3 = df2.resample('10T').sum()\n",
    "        cdf = cdf.append(df3)\n",
    "        print(k, v)"
   ]
  },
  {
   "cell_type": "code",
   "execution_count": 4,
   "metadata": {
    "scrolled": false
   },
   "outputs": [
    {
     "name": "stdout",
     "output_type": "stream",
     "text": [
      "<class 'pandas.core.frame.DataFrame'>\n",
      "DatetimeIndex: 8496 entries, 2013-11-01 00:00:00+01:00 to 2013-12-29 23:50:00+01:00\n",
      "Freq: 10T\n",
      "Data columns (total 5 columns):\n",
      "SMSin       8496 non-null float64\n",
      "SMSout      8496 non-null float64\n",
      "callIn      8496 non-null float64\n",
      "callOut     8496 non-null float64\n",
      "internet    8496 non-null float64\n",
      "dtypes: float64(5)\n",
      "memory usage: 398.2 KB\n"
     ]
    }
   ],
   "source": [
    "cdf.info()"
   ]
  },
  {
   "cell_type": "code",
   "execution_count": 5,
   "metadata": {},
   "outputs": [],
   "source": [
    "cdf2 = cdf.copy()"
   ]
  },
  {
   "cell_type": "code",
   "execution_count": 6,
   "metadata": {},
   "outputs": [],
   "source": [
    "cdf2['SMS'] = cdf2['SMSin'] + cdf2['SMSout']\n",
    "cdf2['call'] = cdf2['callIn'] + cdf2['callOut']"
   ]
  },
  {
   "cell_type": "code",
   "execution_count": 7,
   "metadata": {},
   "outputs": [],
   "source": [
    "cdf2['day'] = cdf2.index.dayofweek\n",
    "cdf2['weekend'] = 'Weekday'\n",
    "cdf2.loc[cdf2['day'].isin([5,6]), 'weekend'] = 'Weekend'"
   ]
  },
  {
   "cell_type": "code",
   "execution_count": 8,
   "metadata": {},
   "outputs": [],
   "source": [
    "cdfDaily = cdf2.resample('D').sum()\n",
    "cdfDaily['day'] = cdfDaily.index.dayofweek\n",
    "cdfDaily['weekend'] = 'Weekday'\n",
    "cdfDaily.loc[cdf2['day'].isin([5,6]), 'weekend'] = 'Weekend'"
   ]
  },
  {
   "cell_type": "code",
   "execution_count": 12,
   "metadata": {
    "scrolled": false
   },
   "outputs": [
    {
     "data": {
      "text/plain": [
       "<matplotlib.axes._subplots.AxesSubplot at 0x1e780738fc8>"
      ]
     },
     "execution_count": 12,
     "metadata": {},
     "output_type": "execute_result"
    },
    {
     "data": {
      "image/png": "[encoded data removed]",
      "text/plain": [
       "<Figure size 432x288 with 1 Axes>"
      ]
     },
     "metadata": {
      "needs_background": "light"
     },
     "output_type": "display_data"
    }
   ],
   "source": [
    "cdf2[['SMSin', 'SMSout', 'callIn', 'callOut', 'SMS', 'call']].boxplot()"
   ]
  },
  {
   "cell_type": "code",
   "execution_count": 13,
   "metadata": {},
   "outputs": [
    {
     "data": {
      "text/plain": [
       "<matplotlib.axes._subplots.AxesSubplot at 0x1e78049a7c8>"
      ]
     },
     "execution_count": 13,
     "metadata": {},
     "output_type": "execute_result"
    },
    {
     "data": {
      "image/png": "[encoded data removed]",
      "text/plain": [
       "<Figure size 432x288 with 1 Axes>"
      ]
     },
     "metadata": {
      "needs_background": "light"
     },
     "output_type": "display_data"
    }
   ],
   "source": [
    "cdf2[['SMSout']].boxplot()"
   ]
  },
  {
   "cell_type": "code",
   "execution_count": 15,
   "metadata": {},
   "outputs": [
    {
     "data": {
      "text/html": [
       "<div>\n",
       "<style scoped>\n",
       "    .dataframe tbody tr th:only-of-type {\n",
       "        vertical-align: middle;\n",
       "    }\n",
       "\n",
       "    .dataframe tbody tr th {\n",
       "        vertical-align: top;\n",
       "    }\n",
       "\n",
       "    .dataframe thead th {\n",
       "        text-align: right;\n",
       "    }\n",
       "</style>\n",
       "<table border=\"1\" class=\"dataframe\">\n",
       "  <thead>\n",
       "    <tr style=\"text-align: right;\">\n",
       "      <th></th>\n",
       "      <th>SMSin</th>\n",
       "      <th>SMSout</th>\n",
       "      <th>callIn</th>\n",
       "      <th>callOut</th>\n",
       "      <th>internet</th>\n",
       "      <th>SMS</th>\n",
       "      <th>call</th>\n",
       "      <th>day</th>\n",
       "      <th>weekend</th>\n",
       "    </tr>\n",
       "    <tr>\n",
       "      <th>timeInterval</th>\n",
       "      <th></th>\n",
       "      <th></th>\n",
       "      <th></th>\n",
       "      <th></th>\n",
       "      <th></th>\n",
       "      <th></th>\n",
       "      <th></th>\n",
       "      <th></th>\n",
       "      <th></th>\n",
       "    </tr>\n",
       "  </thead>\n",
       "  <tbody>\n",
       "    <tr>\n",
       "      <td>2013-12-25 10:00:00+01:00</td>\n",
       "      <td>109095.691260</td>\n",
       "      <td>81541.521255</td>\n",
       "      <td>33064.584794</td>\n",
       "      <td>44565.327212</td>\n",
       "      <td>420375.213845</td>\n",
       "      <td>190637.212515</td>\n",
       "      <td>77629.912005</td>\n",
       "      <td>2</td>\n",
       "      <td>Weekday</td>\n",
       "    </tr>\n",
       "    <tr>\n",
       "      <td>2013-12-25 10:10:00+01:00</td>\n",
       "      <td>112652.370384</td>\n",
       "      <td>85444.442567</td>\n",
       "      <td>36033.355998</td>\n",
       "      <td>46986.148973</td>\n",
       "      <td>424069.419984</td>\n",
       "      <td>198096.812951</td>\n",
       "      <td>83019.504971</td>\n",
       "      <td>2</td>\n",
       "      <td>Weekday</td>\n",
       "    </tr>\n",
       "    <tr>\n",
       "      <td>2013-12-25 10:20:00+01:00</td>\n",
       "      <td>115323.368386</td>\n",
       "      <td>86998.394720</td>\n",
       "      <td>39342.906249</td>\n",
       "      <td>51368.537115</td>\n",
       "      <td>439351.793352</td>\n",
       "      <td>202321.763106</td>\n",
       "      <td>90711.443364</td>\n",
       "      <td>2</td>\n",
       "      <td>Weekday</td>\n",
       "    </tr>\n",
       "    <tr>\n",
       "      <td>2013-12-25 10:30:00+01:00</td>\n",
       "      <td>120757.229779</td>\n",
       "      <td>92698.851907</td>\n",
       "      <td>41480.087639</td>\n",
       "      <td>52940.293773</td>\n",
       "      <td>451498.868501</td>\n",
       "      <td>213456.081685</td>\n",
       "      <td>94420.381412</td>\n",
       "      <td>2</td>\n",
       "      <td>Weekday</td>\n",
       "    </tr>\n",
       "    <tr>\n",
       "      <td>2013-12-25 10:40:00+01:00</td>\n",
       "      <td>126046.346637</td>\n",
       "      <td>91631.867407</td>\n",
       "      <td>44796.916634</td>\n",
       "      <td>57167.682918</td>\n",
       "      <td>456020.658581</td>\n",
       "      <td>217678.214044</td>\n",
       "      <td>101964.599552</td>\n",
       "      <td>2</td>\n",
       "      <td>Weekday</td>\n",
       "    </tr>\n",
       "    <tr>\n",
       "      <td>2013-12-25 10:50:00+01:00</td>\n",
       "      <td>128441.374974</td>\n",
       "      <td>92033.391978</td>\n",
       "      <td>48755.418295</td>\n",
       "      <td>61826.300513</td>\n",
       "      <td>464007.956515</td>\n",
       "      <td>220474.766952</td>\n",
       "      <td>110581.718808</td>\n",
       "      <td>2</td>\n",
       "      <td>Weekday</td>\n",
       "    </tr>\n",
       "    <tr>\n",
       "      <td>2013-12-25 11:00:00+01:00</td>\n",
       "      <td>130708.369143</td>\n",
       "      <td>93033.443338</td>\n",
       "      <td>50809.852891</td>\n",
       "      <td>63330.631255</td>\n",
       "      <td>480200.251209</td>\n",
       "      <td>223741.812481</td>\n",
       "      <td>114140.484146</td>\n",
       "      <td>2</td>\n",
       "      <td>Weekday</td>\n",
       "    </tr>\n",
       "    <tr>\n",
       "      <td>2013-12-25 11:10:00+01:00</td>\n",
       "      <td>131203.782170</td>\n",
       "      <td>90822.875731</td>\n",
       "      <td>53222.880533</td>\n",
       "      <td>66984.351394</td>\n",
       "      <td>487378.873173</td>\n",
       "      <td>222026.657902</td>\n",
       "      <td>120207.231927</td>\n",
       "      <td>2</td>\n",
       "      <td>Weekday</td>\n",
       "    </tr>\n",
       "    <tr>\n",
       "      <td>2013-12-25 11:20:00+01:00</td>\n",
       "      <td>130616.847914</td>\n",
       "      <td>92132.085715</td>\n",
       "      <td>54076.894283</td>\n",
       "      <td>67595.662342</td>\n",
       "      <td>500630.232961</td>\n",
       "      <td>222748.933629</td>\n",
       "      <td>121672.556625</td>\n",
       "      <td>2</td>\n",
       "      <td>Weekday</td>\n",
       "    </tr>\n",
       "    <tr>\n",
       "      <td>2013-12-25 11:30:00+01:00</td>\n",
       "      <td>128728.211918</td>\n",
       "      <td>89692.952925</td>\n",
       "      <td>55353.837107</td>\n",
       "      <td>68731.069220</td>\n",
       "      <td>508732.620992</td>\n",
       "      <td>218421.164842</td>\n",
       "      <td>124084.906327</td>\n",
       "      <td>2</td>\n",
       "      <td>Weekday</td>\n",
       "    </tr>\n",
       "    <tr>\n",
       "      <td>2013-12-25 11:40:00+01:00</td>\n",
       "      <td>129481.386697</td>\n",
       "      <td>92486.401579</td>\n",
       "      <td>56301.684752</td>\n",
       "      <td>69902.152286</td>\n",
       "      <td>519139.052895</td>\n",
       "      <td>221967.788276</td>\n",
       "      <td>126203.837038</td>\n",
       "      <td>2</td>\n",
       "      <td>Weekday</td>\n",
       "    </tr>\n",
       "    <tr>\n",
       "      <td>2013-12-25 11:50:00+01:00</td>\n",
       "      <td>127445.363832</td>\n",
       "      <td>90313.400136</td>\n",
       "      <td>56872.151857</td>\n",
       "      <td>69454.933326</td>\n",
       "      <td>526111.697106</td>\n",
       "      <td>217758.763968</td>\n",
       "      <td>126327.085182</td>\n",
       "      <td>2</td>\n",
       "      <td>Weekday</td>\n",
       "    </tr>\n",
       "    <tr>\n",
       "      <td>2013-12-25 12:00:00+01:00</td>\n",
       "      <td>125294.031114</td>\n",
       "      <td>88610.822079</td>\n",
       "      <td>56939.122671</td>\n",
       "      <td>68904.251351</td>\n",
       "      <td>547741.398818</td>\n",
       "      <td>213904.853193</td>\n",
       "      <td>125843.374023</td>\n",
       "      <td>2</td>\n",
       "      <td>Weekday</td>\n",
       "    </tr>\n",
       "    <tr>\n",
       "      <td>2013-12-25 12:10:00+01:00</td>\n",
       "      <td>121920.437019</td>\n",
       "      <td>84169.046850</td>\n",
       "      <td>55500.170802</td>\n",
       "      <td>66888.397343</td>\n",
       "      <td>546009.778898</td>\n",
       "      <td>206089.483868</td>\n",
       "      <td>122388.568145</td>\n",
       "      <td>2</td>\n",
       "      <td>Weekday</td>\n",
       "    </tr>\n",
       "    <tr>\n",
       "      <td>2013-12-25 12:20:00+01:00</td>\n",
       "      <td>119836.051211</td>\n",
       "      <td>81900.272377</td>\n",
       "      <td>54195.237684</td>\n",
       "      <td>66156.803708</td>\n",
       "      <td>545062.882939</td>\n",
       "      <td>201736.323588</td>\n",
       "      <td>120352.041393</td>\n",
       "      <td>2</td>\n",
       "      <td>Weekday</td>\n",
       "    </tr>\n",
       "  </tbody>\n",
       "</table>\n",
       "</div>"
      ],
      "text/plain": [
       "                                   SMSin        SMSout        callIn  \\\n",
       "timeInterval                                                           \n",
       "2013-12-25 10:00:00+01:00  109095.691260  81541.521255  33064.584794   \n",
       "2013-12-25 10:10:00+01:00  112652.370384  85444.442567  36033.355998   \n",
       "2013-12-25 10:20:00+01:00  115323.368386  86998.394720  39342.906249   \n",
       "2013-12-25 10:30:00+01:00  120757.229779  92698.851907  41480.087639   \n",
       "2013-12-25 10:40:00+01:00  126046.346637  91631.867407  44796.916634   \n",
       "2013-12-25 10:50:00+01:00  128441.374974  92033.391978  48755.418295   \n",
       "2013-12-25 11:00:00+01:00  130708.369143  93033.443338  50809.852891   \n",
       "2013-12-25 11:10:00+01:00  131203.782170  90822.875731  53222.880533   \n",
       "2013-12-25 11:20:00+01:00  130616.847914  92132.085715  54076.894283   \n",
       "2013-12-25 11:30:00+01:00  128728.211918  89692.952925  55353.837107   \n",
       "2013-12-25 11:40:00+01:00  129481.386697  92486.401579  56301.684752   \n",
       "2013-12-25 11:50:00+01:00  127445.363832  90313.400136  56872.151857   \n",
       "2013-12-25 12:00:00+01:00  125294.031114  88610.822079  56939.122671   \n",
       "2013-12-25 12:10:00+01:00  121920.437019  84169.046850  55500.170802   \n",
       "2013-12-25 12:20:00+01:00  119836.051211  81900.272377  54195.237684   \n",
       "\n",
       "                                callOut       internet            SMS  \\\n",
       "timeInterval                                                            \n",
       "2013-12-25 10:00:00+01:00  44565.327212  420375.213845  190637.212515   \n",
       "2013-12-25 10:10:00+01:00  46986.148973  424069.419984  198096.812951   \n",
       "2013-12-25 10:20:00+01:00  51368.537115  439351.793352  202321.763106   \n",
       "2013-12-25 10:30:00+01:00  52940.293773  451498.868501  213456.081685   \n",
       "2013-12-25 10:40:00+01:00  57167.682918  456020.658581  217678.214044   \n",
       "2013-12-25 10:50:00+01:00  61826.300513  464007.956515  220474.766952   \n",
       "2013-12-25 11:00:00+01:00  63330.631255  480200.251209  223741.812481   \n",
       "2013-12-25 11:10:00+01:00  66984.351394  487378.873173  222026.657902   \n",
       "2013-12-25 11:20:00+01:00  67595.662342  500630.232961  222748.933629   \n",
       "2013-12-25 11:30:00+01:00  68731.069220  508732.620992  218421.164842   \n",
       "2013-12-25 11:40:00+01:00  69902.152286  519139.052895  221967.788276   \n",
       "2013-12-25 11:50:00+01:00  69454.933326  526111.697106  217758.763968   \n",
       "2013-12-25 12:00:00+01:00  68904.251351  547741.398818  213904.853193   \n",
       "2013-12-25 12:10:00+01:00  66888.397343  546009.778898  206089.483868   \n",
       "2013-12-25 12:20:00+01:00  66156.803708  545062.882939  201736.323588   \n",
       "\n",
       "                                    call  day  weekend  \n",
       "timeInterval                                            \n",
       "2013-12-25 10:00:00+01:00   77629.912005    2  Weekday  \n",
       "2013-12-25 10:10:00+01:00   83019.504971    2  Weekday  \n",
       "2013-12-25 10:20:00+01:00   90711.443364    2  Weekday  \n",
       "2013-12-25 10:30:00+01:00   94420.381412    2  Weekday  \n",
       "2013-12-25 10:40:00+01:00  101964.599552    2  Weekday  \n",
       "2013-12-25 10:50:00+01:00  110581.718808    2  Weekday  \n",
       "2013-12-25 11:00:00+01:00  114140.484146    2  Weekday  \n",
       "2013-12-25 11:10:00+01:00  120207.231927    2  Weekday  \n",
       "2013-12-25 11:20:00+01:00  121672.556625    2  Weekday  \n",
       "2013-12-25 11:30:00+01:00  124084.906327    2  Weekday  \n",
       "2013-12-25 11:40:00+01:00  126203.837038    2  Weekday  \n",
       "2013-12-25 11:50:00+01:00  126327.085182    2  Weekday  \n",
       "2013-12-25 12:00:00+01:00  125843.374023    2  Weekday  \n",
       "2013-12-25 12:10:00+01:00  122388.568145    2  Weekday  \n",
       "2013-12-25 12:20:00+01:00  120352.041393    2  Weekday  "
      ]
     },
     "execution_count": 15,
     "metadata": {},
     "output_type": "execute_result"
    }
   ],
   "source": [
    "cdf2[cdf2['SMSout']>80000]"
   ]
  },
  {
   "cell_type": "code",
   "execution_count": 17,
   "metadata": {},
   "outputs": [
    {
     "data": {
      "text/plain": [
       "<matplotlib.axes._subplots.AxesSubplot at 0x1e780b41488>"
      ]
     },
     "execution_count": 17,
     "metadata": {},
     "output_type": "execute_result"
    },
    {
     "data": {
      "image/png": "[encoded data removed]",
      "text/plain": [
       "<Figure size 432x288 with 1 Axes>"
      ]
     },
     "metadata": {
      "needs_background": "light"
     },
     "output_type": "display_data"
    }
   ],
   "source": [
    "cdf2.loc['2013-12-25',['SMSout']].plot()"
   ]
  }
 ],
 "metadata": {
  "kernelspec": {
   "display_name": "Python 3",
   "language": "python",
   "name": "python3"
  },
  "language_info": {
   "codemirror_mode": {
    "name": "ipython",
    "version": 3
   },
   "file_extension": ".py",
   "mimetype": "text/x-python",
   "name": "python",
   "nbconvert_exporter": "python",
   "pygments_lexer": "ipython3",
   "version": "3.7.4"
  }
 },
 "nbformat": 4,
 "nbformat_minor": 2
}
